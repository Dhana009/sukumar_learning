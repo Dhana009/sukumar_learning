{
 "cells": [
  {
   "cell_type": "code",
   "execution_count": null,
   "id": "00f37c94-0797-4cef-9f3f-5eea0f6e176f",
   "metadata": {},
   "outputs": [],
   "source": []
  },
  {
   "cell_type": "markdown",
   "id": "8a54dd19-ce7b-42e4-9c38-6448276c7284",
   "metadata": {},
   "source": [
    "# Python Basic Topics\n",
    "\n",
    "### https://github.com/Dhana009/Python-Concepts/blob/main/01.Python%20Basic.ipynb"
   ]
  },
  {
   "cell_type": "markdown",
   "id": "7aa563ff-bb1c-4472-9c62-dc82ce87e40c",
   "metadata": {
    "jp-MarkdownHeadingCollapsed": true
   },
   "source": [
    "# lists, tuples, sets, dictionary, strings, control flow statements, modules, packages, file input and output"
   ]
  },
  {
   "cell_type": "markdown",
   "id": "3d9bb201-b1fc-4196-b879-c68f38cf1be0",
   "metadata": {},
   "source": [
    "### In Python, common data structures include lists, tuples, dictionaries, and sets."
   ]
  },
  {
   "cell_type": "markdown",
   "id": "cc63ed0e-1662-4ae8-ac3b-5e154892fd0d",
   "metadata": {
    "jp-MarkdownHeadingCollapsed": true
   },
   "source": [
    "# lists"
   ]
  },
  {
   "cell_type": "markdown",
   "id": "f3aae5a5-4029-4328-97f0-cec64619f6e0",
   "metadata": {},
   "source": [
    "### lists are ordered and mutable [items can be removed or added], this can be helpful in manipulating the data. list is denoted by square brackets '[ ]'"
   ]
  },
  {
   "cell_type": "code",
   "execution_count": 5,
   "id": "bd1038aa-7656-4cd1-8777-8882bb306c3b",
   "metadata": {},
   "outputs": [],
   "source": [
    "# example\n",
    "\n",
    "numbers = [1,2,3,4,5] #list can contain all data types[string, int, float, boolean]\n",
    "\n",
    "letters = ['apple',1,1.2,True,False]"
   ]
  },
  {
   "cell_type": "code",
   "execution_count": 6,
   "id": "defa96ea-952e-407e-a440-cb34e2d18a49",
   "metadata": {},
   "outputs": [
    {
     "name": "stdout",
     "output_type": "stream",
     "text": [
      "['apple', 1, 1.2, True, False]\n"
     ]
    }
   ],
   "source": [
    "print(letters)"
   ]
  },
  {
   "cell_type": "markdown",
   "id": "59b76113-90d1-4eef-835b-e07b4128b5d2",
   "metadata": {},
   "source": [
    "#### list methods "
   ]
  },
  {
   "cell_type": "markdown",
   "id": "8ee235bc-79fc-4630-b3d2-3489721a0e53",
   "metadata": {},
   "source": [
    "#### append(), extend(), pop(), sort(), count() -- these are most used"
   ]
  },
  {
   "cell_type": "markdown",
   "id": "96044560-ba21-4f5e-bbcb-e8e993366d7a",
   "metadata": {},
   "source": [
    "\n",
    "append(): adds an element to the end of the list\n",
    "\n",
    "extend(): adds multiple elements to the end of the list\n",
    "\n",
    "insert(): inserts an element at a specified index\n",
    "\n",
    "remove(): removes an element from the list\n",
    "\n",
    "pop(): removes and returns the element at a specified index\n",
    "\n",
    "index(): returns the index of the first occurrence of a specified element\n",
    "\n",
    "count(): returns the number of occurrences of a specified element\n",
    "\n",
    "sort(): sorts the elements of the list in ascending order\n",
    "\n",
    "reverse(): reverses the order of the elements in the list"
   ]
  },
  {
   "cell_type": "code",
   "execution_count": 9,
   "id": "1c9b1164-9c54-4c96-9908-8d3ab36775bd",
   "metadata": {},
   "outputs": [],
   "source": [
    "letters = ['apple',1,1.2,True,False]"
   ]
  },
  {
   "cell_type": "code",
   "execution_count": 10,
   "id": "7132fe31-d814-4cb2-a681-4970d3abfe0b",
   "metadata": {},
   "outputs": [],
   "source": [
    "#append  #append(): adds an element to the end of the list\n",
    "\n",
    "letters.append('checking')"
   ]
  },
  {
   "cell_type": "code",
   "execution_count": 11,
   "id": "556dffc4-45c3-4bdb-94d7-c414208c149c",
   "metadata": {},
   "outputs": [
    {
     "name": "stdout",
     "output_type": "stream",
     "text": [
      "['apple', 1, 1.2, True, False, 'checking']\n"
     ]
    }
   ],
   "source": [
    "print(letters)"
   ]
  },
  {
   "cell_type": "code",
   "execution_count": 12,
   "id": "8bb34624-fb41-440f-ad3d-28943e5e66f7",
   "metadata": {},
   "outputs": [
    {
     "name": "stdout",
     "output_type": "stream",
     "text": [
      "['apple', 1, 1.2, True, False, 'checking', 11111]\n"
     ]
    }
   ],
   "source": [
    "letters.append(11111)\n",
    "print(letters)"
   ]
  },
  {
   "cell_type": "code",
   "execution_count": null,
   "id": "86b4d2f5-152a-44a9-950e-bc6a053cbdf0",
   "metadata": {},
   "outputs": [],
   "source": []
  },
  {
   "cell_type": "code",
   "execution_count": 14,
   "id": "50174ebe-0736-42b6-a0d6-8ecd09a4cda9",
   "metadata": {},
   "outputs": [],
   "source": [
    "#extend  - extend(): adds multiple elements to the end of the list\n",
    "\n",
    "numbers = [1,2,3,3.3,45]\n",
    "\n",
    "knife = ['large','small','medium']"
   ]
  },
  {
   "cell_type": "code",
   "execution_count": 18,
   "id": "692f05a6-c9c5-40d4-ad65-c63578f7ccb9",
   "metadata": {},
   "outputs": [
    {
     "name": "stdout",
     "output_type": "stream",
     "text": [
      "['apple', 1, 1.2, True, False, 'checking', 11111]\n"
     ]
    }
   ],
   "source": [
    "print(letters)"
   ]
  },
  {
   "cell_type": "code",
   "execution_count": 15,
   "id": "8d8c7345-1b11-4926-8431-05164247fc5c",
   "metadata": {},
   "outputs": [],
   "source": [
    "numbers.extend(letters) # iterate each element and add to the list as a single element\n",
    "\n",
    "knife.append(letters) # adds all the whole list as a single element"
   ]
  },
  {
   "cell_type": "code",
   "execution_count": 16,
   "id": "be5f281a-e86a-4059-9e15-5e9c619603d1",
   "metadata": {},
   "outputs": [
    {
     "name": "stdout",
     "output_type": "stream",
     "text": [
      "[1, 2, 3, 3.3, 45, 'apple', 1, 1.2, True, False, 'checking', 11111]\n"
     ]
    }
   ],
   "source": [
    "print(numbers)"
   ]
  },
  {
   "cell_type": "code",
   "execution_count": 17,
   "id": "40751604-5680-4006-b52c-f19f4b9840c7",
   "metadata": {},
   "outputs": [
    {
     "name": "stdout",
     "output_type": "stream",
     "text": [
      "['large', 'small', 'medium', ['apple', 1, 1.2, True, False, 'checking', 11111]]\n"
     ]
    }
   ],
   "source": [
    "print(knife)"
   ]
  },
  {
   "cell_type": "code",
   "execution_count": null,
   "id": "4fff6d57-b29a-49db-9944-60862831d14a",
   "metadata": {},
   "outputs": [],
   "source": []
  },
  {
   "cell_type": "code",
   "execution_count": 20,
   "id": "a3fc478c-a973-4113-891b-bd7107d2cbb9",
   "metadata": {},
   "outputs": [
    {
     "data": {
      "text/plain": [
       "['large', 'small', 'medium', ['apple', 1, 1.2, True, False, 'checking', 11111]]"
      ]
     },
     "execution_count": 20,
     "metadata": {},
     "output_type": "execute_result"
    }
   ],
   "source": [
    "#pop -  pop(): removes the last index from the list, if no index is given, if an index is given it will remove that\n",
    "\n",
    "knife"
   ]
  },
  {
   "cell_type": "code",
   "execution_count": 21,
   "id": "0c9f3cc1-676f-4680-9e57-acdd326bb5b3",
   "metadata": {},
   "outputs": [
    {
     "data": {
      "text/plain": [
       "['apple', 1, 1.2, True, False, 'checking', 11111]"
      ]
     },
     "execution_count": 21,
     "metadata": {},
     "output_type": "execute_result"
    }
   ],
   "source": [
    "knife.pop()"
   ]
  },
  {
   "cell_type": "code",
   "execution_count": 22,
   "id": "6547f0ce-2661-40a0-8622-5f698eba99cc",
   "metadata": {},
   "outputs": [
    {
     "data": {
      "text/plain": [
       "['large', 'small', 'medium']"
      ]
     },
     "execution_count": 22,
     "metadata": {},
     "output_type": "execute_result"
    }
   ],
   "source": [
    "knife"
   ]
  },
  {
   "cell_type": "code",
   "execution_count": 23,
   "id": "f86f5e5d-08a8-4b93-9a67-979083c5cb0d",
   "metadata": {},
   "outputs": [
    {
     "data": {
      "text/plain": [
       "'large'"
      ]
     },
     "execution_count": 23,
     "metadata": {},
     "output_type": "execute_result"
    }
   ],
   "source": [
    "knife.pop(0)"
   ]
  },
  {
   "cell_type": "code",
   "execution_count": 24,
   "id": "fdfb76b7-a486-48fc-932b-87b020753b3c",
   "metadata": {},
   "outputs": [
    {
     "data": {
      "text/plain": [
       "['small', 'medium']"
      ]
     },
     "execution_count": 24,
     "metadata": {},
     "output_type": "execute_result"
    }
   ],
   "source": [
    "knife"
   ]
  },
  {
   "cell_type": "code",
   "execution_count": null,
   "id": "d3e83173-261c-4fd7-afaa-646850f22c47",
   "metadata": {},
   "outputs": [],
   "source": []
  },
  {
   "cell_type": "code",
   "execution_count": 36,
   "id": "f7be9e44-aa06-4507-a6d6-be6ff80ac339",
   "metadata": {},
   "outputs": [],
   "source": [
    "# sort - sort(): sorts the elements of the list in ascending order #it must contain only one data type in the whole list\n",
    "\n",
    "numbers = [1,2,3,3.3,45]"
   ]
  },
  {
   "cell_type": "code",
   "execution_count": 37,
   "id": "46bd7349-b6e8-4e49-942f-8f795763aa78",
   "metadata": {},
   "outputs": [
    {
     "data": {
      "text/plain": [
       "[1, 2, 3, 3.3, 45]"
      ]
     },
     "execution_count": 37,
     "metadata": {},
     "output_type": "execute_result"
    }
   ],
   "source": [
    "numbers.sort()\n",
    "numbers"
   ]
  },
  {
   "cell_type": "code",
   "execution_count": 38,
   "id": "2139de2f-b1eb-4174-a43a-ed69237af85f",
   "metadata": {},
   "outputs": [
    {
     "data": {
      "text/plain": [
       "['apple', 1, 1.2, True, False, 'checking', 11111]"
      ]
     },
     "execution_count": 38,
     "metadata": {},
     "output_type": "execute_result"
    }
   ],
   "source": [
    "letters"
   ]
  },
  {
   "cell_type": "code",
   "execution_count": 40,
   "id": "fb63aec6-d1fb-4421-a3e8-2a6a6ce0cf57",
   "metadata": {},
   "outputs": [
    {
     "ename": "TypeError",
     "evalue": "'<' not supported between instances of 'int' and 'str'",
     "output_type": "error",
     "traceback": [
      "\u001b[1;31m---------------------------------------------------------------------------\u001b[0m",
      "\u001b[1;31mTypeError\u001b[0m                                 Traceback (most recent call last)",
      "Cell \u001b[1;32mIn[40], line 1\u001b[0m\n\u001b[1;32m----> 1\u001b[0m \u001b[43mletters\u001b[49m\u001b[38;5;241;43m.\u001b[39;49m\u001b[43msort\u001b[49m\u001b[43m(\u001b[49m\u001b[43m)\u001b[49m\n",
      "\u001b[1;31mTypeError\u001b[0m: '<' not supported between instances of 'int' and 'str'"
     ]
    }
   ],
   "source": [
    "letters.sort()"
   ]
  },
  {
   "cell_type": "code",
   "execution_count": null,
   "id": "e8e667fe-f8d5-42c6-a33e-9396cade7316",
   "metadata": {},
   "outputs": [],
   "source": []
  },
  {
   "cell_type": "code",
   "execution_count": 50,
   "id": "668f43c6-8fe8-4d23-bcc5-51d57e40a99a",
   "metadata": {},
   "outputs": [
    {
     "data": {
      "text/plain": [
       "['apple', 1, 1.2, True, False, 'checking', 11111]"
      ]
     },
     "execution_count": 50,
     "metadata": {},
     "output_type": "execute_result"
    }
   ],
   "source": [
    "letters"
   ]
  },
  {
   "cell_type": "code",
   "execution_count": 51,
   "id": "c1af898d-b2b8-4783-b10a-cde148a28dcb",
   "metadata": {},
   "outputs": [
    {
     "data": {
      "text/plain": [
       "1"
      ]
     },
     "execution_count": 51,
     "metadata": {},
     "output_type": "execute_result"
    }
   ],
   "source": [
    "letters.count('checking')"
   ]
  },
  {
   "cell_type": "raw",
   "id": "f028eb02-6e1a-4bd5-ab65-71f9f8967d0c",
   "metadata": {},
   "source": [
    "# Creating a list\n",
    "numbers = [1, 2, 3, 4]\n",
    "\n",
    "# Append 5 to the list\n",
    "numbers.append(5)\n",
    "print(numbers) # [1, 2, 3, 4, 5]\n",
    "\n",
    "# Extend the list with [6, 7, 8]\n",
    "numbers.extend([6, 7, 8])\n",
    "print(numbers) # [1, 2, 3, 4, 5, 6, 7, 8]\n",
    "\n",
    "# Insert 0 at index 0\n",
    "numbers.insert(0, 0)\n",
    "print(numbers) # [0, 1, 2, 3, 4, 5, 6, 7, 8]\n",
    "\n",
    "# Remove the element with value 3\n",
    "numbers.remove(3)\n",
    "print(numbers) # [0, 1, 2, 4, 5, 6, 7, 8]\n",
    "\n",
    "# Pop and return the element at index 4\n",
    "popped_element = numbers.pop(4)\n",
    "print(popped_element) # 5\n",
    "print(numbers) # [0, 1, 2, 4, 6, 7, 8]\n",
    "\n",
    "# Find the index of the first occurrence of 7\n",
    "index = numbers.index(7)\n",
    "print(index) # 5\n",
    "\n",
    "# Count the number of occurrences of 2\n",
    "count = numbers.count(2)\n",
    "print(count) # 1\n",
    "\n",
    "# Sort the list\n",
    "numbers.sort()\n",
    "print(numbers) # [0, 1, 2, 4, 6, 7, 8]\n",
    "\n",
    "# Reverse the list\n",
    "numbers.reverse()\n",
    "print(numbers) # [8, 7, 6, 4, 2, 1, 0]"
   ]
  },
  {
   "cell_type": "code",
   "execution_count": null,
   "id": "47cc5f6e-4330-486f-a0bd-9dfc63cf62a3",
   "metadata": {},
   "outputs": [],
   "source": []
  },
  {
   "cell_type": "raw",
   "id": "24586f41-24ee-44f8-a691-b7d796c391d1",
   "metadata": {},
   "source": [
    "apple = [1,2,3,4,5,5,6]\n",
    "\n",
    "\n",
    "apple.append(3)\n",
    "\n",
    "apple.extend([2,3,9])\n",
    "\n",
    "apple.sort()\n",
    "\n",
    "apple.reverse()\n",
    "\n",
    "apple.pop()\n",
    "\n",
    "apple.count(2)\n",
    "\n",
    "apple.pop(2)\n",
    "\n",
    "apple.insert(1,233)\n",
    "\n",
    "apple.index(5)\n",
    "\n",
    "print(apple)"
   ]
  },
  {
   "cell_type": "code",
   "execution_count": null,
   "id": "87d2bec2-d2fb-465d-8357-5f97810facc4",
   "metadata": {},
   "outputs": [],
   "source": []
  },
  {
   "cell_type": "markdown",
   "id": "1182ea00-544b-4f28-a9f2-3139fc1d3cd5",
   "metadata": {
    "jp-MarkdownHeadingCollapsed": true
   },
   "source": [
    "# Tuples"
   ]
  },
  {
   "cell_type": "code",
   "execution_count": null,
   "id": "0ad88793-0226-4333-b217-179d9d3855f7",
   "metadata": {},
   "outputs": [],
   "source": [
    "## tuples are ordered [once we give a order, it follows it, that will not be changed], but they are immutable [once the elements are created, they cannot be added or removed]\n",
    "\n",
    "## this immutuable behaviour will be helpful in places where we dont need to change the elements, game coordiantes, usernames"
   ]
  },
  {
   "cell_type": "code",
   "execution_count": 52,
   "id": "043914ff-048b-4305-a9f0-3c0f070c0bbe",
   "metadata": {},
   "outputs": [],
   "source": [
    "# Creating a tuple\n",
    "numbers = (1, 2, 3, 4)"
   ]
  },
  {
   "cell_type": "code",
   "execution_count": null,
   "id": "742ba0cd-d2f1-4a40-8be0-e0ac29d94657",
   "metadata": {},
   "outputs": [],
   "source": []
  },
  {
   "cell_type": "markdown",
   "id": "2dc7c2cb-c9b6-435f-864f-b836c2208dd7",
   "metadata": {
    "jp-MarkdownHeadingCollapsed": true
   },
   "source": [
    "# sets"
   ]
  },
  {
   "cell_type": "markdown",
   "id": "60ffaf19-bdb1-463a-af14-207044af97ac",
   "metadata": {},
   "source": [
    "## sets are unordered collections of unique items.[duplicates are not allowed]"
   ]
  },
  {
   "cell_type": "code",
   "execution_count": 64,
   "id": "f867adc0-a19f-414d-a90d-44b113b5912c",
   "metadata": {},
   "outputs": [],
   "source": [
    "rise = {1,3,2,1,2,3,1,3,2}"
   ]
  },
  {
   "cell_type": "code",
   "execution_count": 65,
   "id": "74986f9a-6a75-433e-9912-23a816f59be3",
   "metadata": {},
   "outputs": [
    {
     "data": {
      "text/plain": [
       "{1, 2, 3}"
      ]
     },
     "execution_count": 65,
     "metadata": {},
     "output_type": "execute_result"
    }
   ],
   "source": [
    "rise"
   ]
  },
  {
   "cell_type": "code",
   "execution_count": null,
   "id": "1a90e488-a06c-40e5-997f-74b57a336db2",
   "metadata": {},
   "outputs": [],
   "source": []
  },
  {
   "cell_type": "markdown",
   "id": "7bc13b49-4033-4597-b3da-147393e29b81",
   "metadata": {
    "jp-MarkdownHeadingCollapsed": true
   },
   "source": [
    "# dictionary"
   ]
  },
  {
   "cell_type": "markdown",
   "id": "6710e9ef-a1c2-48f1-9533-7837f34f4db8",
   "metadata": {},
   "source": [
    "#### dictionary are mutable, key-value pairs, unique keys[if keys are not unique, then it will overwrite the existing value]\n",
    "\n",
    "#### key value pairs -- key is used to access the corresponding value. keys are 80 percent immtuable(str, int ,tup), while values can be any data type, including lists, tuples, dictionaries, or even other dictionaries."
   ]
  },
  {
   "cell_type": "markdown",
   "id": "875529e1-494b-4bc9-8f99-b688da9fea0c",
   "metadata": {},
   "source": [
    "#### You can iterate[loop] over the keys, values, or key-value pairs of a dictionary using various methods like keys(), values(), and items()."
   ]
  },
  {
   "cell_type": "code",
   "execution_count": 70,
   "id": "3bb01c35-d64f-44c3-871e-1a59b9754d02",
   "metadata": {},
   "outputs": [],
   "source": [
    "my_dict = {'name': 'John', 12 : {'a':'testing'},'gender':[1,2,3]}"
   ]
  },
  {
   "cell_type": "code",
   "execution_count": 71,
   "id": "86529bc2-70b4-4406-9fc5-7890f6e74289",
   "metadata": {},
   "outputs": [
    {
     "data": {
      "text/plain": [
       "dict_keys(['name', 12, 'gender'])"
      ]
     },
     "execution_count": 71,
     "metadata": {},
     "output_type": "execute_result"
    }
   ],
   "source": [
    "my_dict.keys()"
   ]
  },
  {
   "cell_type": "code",
   "execution_count": 72,
   "id": "58fc5a38-4257-4825-8cef-ced35f190bad",
   "metadata": {},
   "outputs": [
    {
     "data": {
      "text/plain": [
       "dict_values(['John', {'a': 'testing'}, [1, 2, 3]])"
      ]
     },
     "execution_count": 72,
     "metadata": {},
     "output_type": "execute_result"
    }
   ],
   "source": [
    "my_dict.values()"
   ]
  },
  {
   "cell_type": "code",
   "execution_count": 73,
   "id": "4ad936d1-2031-4535-bcfd-a0e4b1ed6182",
   "metadata": {},
   "outputs": [
    {
     "data": {
      "text/plain": [
       "dict_items([('name', 'John'), (12, {'a': 'testing'}), ('gender', [1, 2, 3])])"
      ]
     },
     "execution_count": 73,
     "metadata": {},
     "output_type": "execute_result"
    }
   ],
   "source": [
    "my_dict.items()"
   ]
  },
  {
   "cell_type": "code",
   "execution_count": 74,
   "id": "6d23cdee-30cb-48dc-a9aa-21e9b9f3b450",
   "metadata": {},
   "outputs": [
    {
     "data": {
      "text/plain": [
       "'John'"
      ]
     },
     "execution_count": 74,
     "metadata": {},
     "output_type": "execute_result"
    }
   ],
   "source": [
    "my_dict['name']"
   ]
  },
  {
   "cell_type": "code",
   "execution_count": 75,
   "id": "ba6ba700-ba88-4197-87f7-59558e5f6083",
   "metadata": {},
   "outputs": [],
   "source": [
    "my_dict['name'] = 'dhanunjaya'"
   ]
  },
  {
   "cell_type": "code",
   "execution_count": 76,
   "id": "c164db0b-fc3b-42fb-939a-3616a8140317",
   "metadata": {},
   "outputs": [
    {
     "data": {
      "text/plain": [
       "'dhanunjaya'"
      ]
     },
     "execution_count": 76,
     "metadata": {},
     "output_type": "execute_result"
    }
   ],
   "source": [
    "my_dict['name']"
   ]
  },
  {
   "cell_type": "code",
   "execution_count": 77,
   "id": "206e5e2c-f153-407e-94af-baabb269ec04",
   "metadata": {},
   "outputs": [
    {
     "data": {
      "text/plain": [
       "'dhanunjaya'"
      ]
     },
     "execution_count": 77,
     "metadata": {},
     "output_type": "execute_result"
    }
   ],
   "source": [
    "my_dict.pop('name')"
   ]
  },
  {
   "cell_type": "code",
   "execution_count": 78,
   "id": "52a36166-6eab-4168-ab0a-310de7387781",
   "metadata": {},
   "outputs": [
    {
     "data": {
      "text/plain": [
       "{12: {'a': 'testing'}, 'gender': [1, 2, 3]}"
      ]
     },
     "execution_count": 78,
     "metadata": {},
     "output_type": "execute_result"
    }
   ],
   "source": [
    "my_dict"
   ]
  },
  {
   "cell_type": "code",
   "execution_count": 79,
   "id": "1e4a9338-f43d-443d-804b-132dfa9438d8",
   "metadata": {},
   "outputs": [
    {
     "ename": "TypeError",
     "evalue": "pop expected at least 1 argument, got 0",
     "output_type": "error",
     "traceback": [
      "\u001b[1;31m---------------------------------------------------------------------------\u001b[0m",
      "\u001b[1;31mTypeError\u001b[0m                                 Traceback (most recent call last)",
      "Cell \u001b[1;32mIn[79], line 1\u001b[0m\n\u001b[1;32m----> 1\u001b[0m \u001b[43mmy_dict\u001b[49m\u001b[38;5;241;43m.\u001b[39;49m\u001b[43mpop\u001b[49m\u001b[43m(\u001b[49m\u001b[43m)\u001b[49m\n",
      "\u001b[1;31mTypeError\u001b[0m: pop expected at least 1 argument, got 0"
     ]
    }
   ],
   "source": [
    "my_dict.pop()"
   ]
  },
  {
   "cell_type": "code",
   "execution_count": 80,
   "id": "65680688-ca10-4304-b428-2513a17c8be1",
   "metadata": {},
   "outputs": [
    {
     "data": {
      "text/plain": [
       "('gender', [1, 2, 3])"
      ]
     },
     "execution_count": 80,
     "metadata": {},
     "output_type": "execute_result"
    }
   ],
   "source": [
    "my_dict.popitem() #remove the last index"
   ]
  },
  {
   "cell_type": "code",
   "execution_count": 81,
   "id": "7a74b350-53af-48a8-8e18-5be0659d25f1",
   "metadata": {},
   "outputs": [
    {
     "data": {
      "text/plain": [
       "{12: {'a': 'testing'}}"
      ]
     },
     "execution_count": 81,
     "metadata": {},
     "output_type": "execute_result"
    }
   ],
   "source": [
    "my_dict"
   ]
  },
  {
   "cell_type": "code",
   "execution_count": null,
   "id": "815a17f3-e309-45a3-ad35-6852ff270d19",
   "metadata": {},
   "outputs": [],
   "source": []
  },
  {
   "cell_type": "code",
   "execution_count": null,
   "id": "ceb4365b-bb0e-441f-bb44-2327ec78219e",
   "metadata": {},
   "outputs": [],
   "source": []
  },
  {
   "cell_type": "code",
   "execution_count": null,
   "id": "3cc5adc2-5e0a-4f13-909f-f437dee025b2",
   "metadata": {},
   "outputs": [],
   "source": []
  },
  {
   "cell_type": "code",
   "execution_count": null,
   "id": "3545f504-d766-47c0-8b48-0d2960ac617b",
   "metadata": {},
   "outputs": [],
   "source": []
  },
  {
   "cell_type": "code",
   "execution_count": null,
   "id": "2bc39673-2dfb-4fca-8b62-0ac5a5ced06c",
   "metadata": {},
   "outputs": [],
   "source": []
  },
  {
   "cell_type": "code",
   "execution_count": null,
   "id": "8c4936a9-59d6-4a8e-a9e3-40db2c453a8d",
   "metadata": {},
   "outputs": [],
   "source": []
  },
  {
   "cell_type": "code",
   "execution_count": null,
   "id": "a2ccd524-3193-43d4-b641-7e5be637657a",
   "metadata": {},
   "outputs": [],
   "source": []
  },
  {
   "cell_type": "code",
   "execution_count": null,
   "id": "ce439b2c-d144-4e34-bbf5-17b80bf3597c",
   "metadata": {},
   "outputs": [],
   "source": []
  },
  {
   "cell_type": "code",
   "execution_count": null,
   "id": "7afbb340-3973-4624-9c30-782975bccaf7",
   "metadata": {},
   "outputs": [],
   "source": []
  }
 ],
 "metadata": {
  "kernelspec": {
   "display_name": "Python 3 (ipykernel)",
   "language": "python",
   "name": "python3"
  },
  "language_info": {
   "codemirror_mode": {
    "name": "ipython",
    "version": 3
   },
   "file_extension": ".py",
   "mimetype": "text/x-python",
   "name": "python",
   "nbconvert_exporter": "python",
   "pygments_lexer": "ipython3",
   "version": "3.11.7"
  }
 },
 "nbformat": 4,
 "nbformat_minor": 5
}
